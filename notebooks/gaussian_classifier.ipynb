{
  "nbformat": 4,
  "nbformat_minor": 0,
  "metadata": {
    "colab": {
      "name": "gaussian-classifier.ipynb",
      "provenance": [],
      "collapsed_sections": [],
      "authorship_tag": "ABX9TyOw8oVOJ5t+Dkrulm8qTJso",
      "include_colab_link": true
    },
    "kernelspec": {
      "name": "python3",
      "display_name": "Python 3"
    }
  },
  "cells": [
    {
      "cell_type": "markdown",
      "metadata": {
        "id": "view-in-github",
        "colab_type": "text"
      },
      "source": [
        "<a href=\"https://colab.research.google.com/github/unica-ml/ml/blob/master/notebooks/gaussian_classifier.ipynb\" target=\"_parent\"><img src=\"https://colab.research.google.com/assets/colab-badge.svg\" alt=\"Open In Colab\"/></a>"
      ]
    },
    {
      "cell_type": "markdown",
      "metadata": {
        "id": "QOV6jy_KP9Kd",
        "colab_type": "text"
      },
      "source": [
        "## Implementing a Gaussian classifier\n",
        "\n",
        "In this notebook, we will create a Python class implementing a Gaussian classifier. \n",
        "\n",
        "The Gaussian classifier implements, in the more general case, the following decision function $g(x)$ for each class $\\omega$:\n",
        "\n",
        "$$\\mathrm{g}(x ; \\mu, \\Sigma)=-\\frac{1}{2} x^{T} \\Sigma^{-1} x+\\mu^{T} \\Sigma^{-1} x-\\frac{1}{2} \\mu^{T} \\Sigma^{-1} \\mu+\\ln p(\\omega)-\\frac{1}{2} \\ln |\\Sigma|.$$\n",
        "\n",
        "Here, we implement a simplified version in the degenerate case in which the covariance matrix is not only isotropic but equal to the identity matrix: $\\Sigma=\\mathbb{I}$. In this case, it is not difficult to see that the discriminant function $g(x)$ becomes linear and takes the form:\n",
        "\n",
        "$$\\mathrm{g}(x)=\\frac{1}{\\sigma^{2}} \\mu^{T} x-\\frac{1}{2 \\sigma^{2}} \\mu^{T} \\mu+\\ln p(\\omega),$$\n",
        "\n",
        "with $\\sigma=1$.\n",
        "\n",
        "In the class below, \n",
        "- ```fit(x,y)``` estimates the classifier's hyperparameters $\\mu, \\sigma, p(\\omega)$ for each class, from the training data ```x,y``` given as input;\n",
        "- the (protected) function ```_gk(x, k)``` estimates the value of the discriminant function on the data points ```x``` for class ```k```;\n",
        "- and ```predict(x)``` returns the predicted labels as well as a matrix with ```shape=(n_samples, n_classes)```, where each element represents the probability that the given point belongs to one class."
      ]
    },
    {
      "cell_type": "code",
      "metadata": {
        "id": "tvrENSmsOSFC",
        "colab_type": "code",
        "colab": {}
      },
      "source": [
        "import numpy as np\n",
        "\n",
        "\n",
        "class CClassifierGaussian:\n",
        "    \"\"\"\n",
        "    Class implementing a Gaussian classifier\n",
        "    (no covariance matrix)\n",
        "    \"\"\"\n",
        "\n",
        "    def __init__(self):\n",
        "        self._centroids = None\n",
        "        self._covariances = None\n",
        "        self._priors = None\n",
        "        return\n",
        "\n",
        "    @property\n",
        "    def centroids(self):\n",
        "        return self._centroids\n",
        "\n",
        "    @property\n",
        "    def covariances(self):\n",
        "        return self._covariances\n",
        "\n",
        "    @property\n",
        "    def priors(self):\n",
        "        return self._priors\n",
        "\n",
        "    def fit(self, x, y):\n",
        "        n_classes = np.unique(y).size\n",
        "        n_features = x.shape[1]\n",
        "\n",
        "        priors = np.zeros(shape=(n_classes,))\n",
        "        centroids = np.zeros(shape=(n_classes, n_features))\n",
        "\n",
        "        for k in range(n_classes):\n",
        "            centroids[k] = x[y == k, :].mean(axis=0)\n",
        "            priors[k] = (y == k).mean()\n",
        "\n",
        "        # ensure priors sum up to 1\n",
        "        priors /= priors.sum()\n",
        "\n",
        "        self._centroids = centroids\n",
        "        self._priors = priors\n",
        "        return\n",
        "\n",
        "    def _gk(self, x, k):\n",
        "        \"\"\"\n",
        "        Computes the value of discriminant function g_k(x) for class k\n",
        "        :param x:\n",
        "        :param k:\n",
        "        :return:\n",
        "        \"\"\"\n",
        "        g = x.dot(self._centroids[k, :])\n",
        "        g -= 0.5 * np.linalg.norm(self._centroids[k, :], ord=2)**2\n",
        "        g += np.log(self._priors[k])\n",
        "        return g\n",
        "\n",
        "    def predict(self, x):\n",
        "        n_samples = x.shape[0]\n",
        "        n_classes = self._centroids.shape[0]\n",
        "        scores = np.zeros(shape=(n_samples, n_classes))\n",
        "\n",
        "        for k in range(n_classes):\n",
        "            scores[:, k] = self._gk(x, k)\n",
        "\n",
        "        y_pred = np.argmax(scores, axis=1)\n",
        "        return y_pred, scores\n",
        "\n",
        "\n"
      ],
      "execution_count": 0,
      "outputs": []
    },
    {
      "cell_type": "markdown",
      "metadata": {
        "id": "GeNsEwMzQKWF",
        "colab_type": "text"
      },
      "source": [
        "Let's now import some utility functions (whose implementation is discussed in other notebooks): \n",
        "- ```make_gaussian_dataset``` to generate a (bi-dimensional) Gaussian dataset;\n",
        "- ```plot_dataset``` to scatter the data points on a bi-dimensional feature space;\n",
        "- ```plot_decision_regions``` to display the decision regions and boundaries of a classifier on a bi-dimensional feature space."
      ]
    },
    {
      "cell_type": "code",
      "metadata": {
        "id": "Rd5bGTlSOhcW",
        "colab_type": "code",
        "colab": {}
      },
      "source": [
        "import matplotlib.pyplot as plt\n",
        "from matplotlib.colors import ListedColormap\n",
        "\n",
        "\n",
        "def make_gaussian_dataset(n, mu):\n",
        "    \"\"\"\n",
        "    Creates a k-class d-dimensional Gaussian dataset.\n",
        "    :param n: vector containing the number of samples for each class\n",
        "    :param mu: matrix containing the mean vector for each class\n",
        "    :return: x,y, the gaussian dataset\n",
        "    \"\"\"\n",
        "\n",
        "    n = np.array(n)  # convert to np.array if list is passed as input\n",
        "    mu = np.array(mu)\n",
        "\n",
        "    n_classes = mu.shape[0]  # number of classes\n",
        "    n_features = mu.shape[1]  # number of features\n",
        "    n_samples = n.sum()  # total number of samples\n",
        "\n",
        "    # print n_classes, n_features, n_samples\n",
        "\n",
        "    x = np.zeros(shape=(n_samples, n_features))\n",
        "    y = np.zeros(shape=(n_samples,))\n",
        "\n",
        "    start_index = 0\n",
        "    for i in range(n_classes):\n",
        "        x_tmp = np.random.randn(n[i], n_features) + mu[i, :]  # broadcasting...\n",
        "        x[start_index:start_index + n[i], :] = x_tmp\n",
        "        y[start_index:start_index + n[i]] = i\n",
        "        start_index += n[i]\n",
        "\n",
        "    return x, y\n",
        "\n",
        "\n",
        "def plot_dataset(x, y, feat_1=0, feat_2=1):\n",
        "    n_classes = len(np.unique(y))\n",
        "    colors = ['r', 'b', 'g', 'k', 'c', 'm', 'y']\n",
        "\n",
        "    for y0 in range(n_classes):\n",
        "        x0 = x[y == y0, feat_1]  # y0 is the selected class within the loop\n",
        "        x1 = x[y == y0, feat_2]\n",
        "        plt.scatter(x0, x1, c=colors[y0], label='class ' + str(y0))\n",
        "    plt.legend()\n",
        "    plt.xlabel('feature x' + str(feat_1))\n",
        "    plt.ylabel('feature x' + str(feat_2))\n",
        "\n",
        "    return\n",
        "\n",
        "\n",
        "def plot_decision_regions(x, y, classifier, resolution=0.02):\n",
        "    # setup marker generator and color map\n",
        "    colors = ('red', 'blue', 'lightgreen', 'black', 'gray', 'cyan')\n",
        "    cmap = ListedColormap(colors[:len(np.unique(y))])\n",
        "\n",
        "    # plot the decision surface\n",
        "    x1_min, x1_max = x[:, 0].min() - 1, x[:, 0].max() + 1\n",
        "    x2_min, x2_max = x[:, 1].min() - 1, x[:, 1].max() + 1\n",
        "    xx1, xx2 = np.meshgrid(np.arange(x1_min, x1_max, resolution),\n",
        "                           np.arange(x2_min, x2_max, resolution))\n",
        "    Z, score = classifier.predict(np.array([xx1.ravel(), xx2.ravel()]).T)\n",
        "    Z = Z.reshape(xx1.shape)\n",
        "    plt.contourf(xx1, xx2, Z, alpha=0.4, cmap=cmap)\n",
        "    plt.xlim(xx1.min(), xx1.max())\n",
        "    plt.ylim(xx2.min(), xx2.max())\n",
        "\n",
        "    return\n"
      ],
      "execution_count": 0,
      "outputs": []
    },
    {
      "cell_type": "markdown",
      "metadata": {
        "id": "9Cmyz_wxQ4DN",
        "colab_type": "text"
      },
      "source": [
        "Finally, we can generate some data points and test our classifier!"
      ]
    },
    {
      "cell_type": "code",
      "metadata": {
        "id": "d6GijMuDOeXJ",
        "colab_type": "code",
        "colab": {
          "base_uri": "https://localhost:8080/",
          "height": 398
        },
        "outputId": "f550e74d-24f8-4d69-f4f4-230fd3816101"
      },
      "source": [
        "n_samples = [50, 50, 50, 20]\n",
        "centroids = [[-5, -5],\n",
        "             [+5, -5],\n",
        "             [-5, +5],\n",
        "             [+5, +5]]\n",
        "\n",
        "# generate data\n",
        "x_tr, y_tr = make_gaussian_dataset(n_samples, centroids)\n",
        "x_ts, y_ts = make_gaussian_dataset(n_samples, centroids)\n",
        "\n",
        "clf = CClassifierGaussian()\n",
        "clf.fit(x_tr, y_tr)\n",
        "plot_decision_regions(x_tr, y_tr, classifier=clf)\n",
        "plot_dataset(x_tr, y_tr)\n",
        "plt.show()\n",
        "\n",
        "\n",
        "y_pred, scores = clf.predict(x_ts)\n",
        "\n",
        "print('Classification error: ', (y_pred != y_ts).mean())\n",
        "print('Centroids: ', clf.centroids)\n",
        "print('Priors: ', clf.priors)\n",
        "print('Class variances: ', clf.covariances)"
      ],
      "execution_count": 18,
      "outputs": [
        {
          "output_type": "display_data",
          "data": {
            "image/png": "[encoded data removed]",
            "text/plain": [
              "<Figure size 432x288 with 1 Axes>"
            ]
          },
          "metadata": {
            "tags": []
          }
        },
        {
          "output_type": "stream",
          "text": [
            "Classification error:  0.0\n",
            "Centroids:  [[-4.98653505 -5.07251277]\n",
            " [ 5.20271702 -5.13533626]\n",
            " [-4.75942531  5.11956025]\n",
            " [ 5.19759019  5.14653705]]\n",
            "Priors:  [0.29411765 0.29411765 0.29411765 0.11764706]\n",
            "Class variances:  None\n"
          ],
          "name": "stdout"
        }
      ]
    }
  ]
}