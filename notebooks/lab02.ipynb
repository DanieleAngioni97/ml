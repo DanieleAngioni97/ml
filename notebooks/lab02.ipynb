{
  "nbformat": 4,
  "nbformat_minor": 0,
  "metadata": {
    "colab": {
      "name": "lab02.ipynb",
      "provenance": [],
      "collapsed_sections": [],
      "authorship_tag": "ABX9TyOIERzbHWJnyxLVgokdJxmk",
      "include_colab_link": true
    },
    "kernelspec": {
      "name": "python3",
      "display_name": "Python 3"
    }
  },
  "cells": [
    {
      "cell_type": "markdown",
      "metadata": {
        "id": "view-in-github",
        "colab_type": "text"
      },
      "source": [
        "<a href=\"https://colab.research.google.com/github/unica-ml/ml/blob/master/notebooks/lab02.ipynb\" target=\"_parent\"><img src=\"https://colab.research.google.com/assets/colab-badge.svg\" alt=\"Open In Colab\"/></a>"
      ]
    },
    {
      "cell_type": "markdown",
      "metadata": {
        "id": "vHyVZibC4vQM",
        "colab_type": "text"
      },
      "source": [
        "# Machine Learning - Lab02\n",
        "\n",
        "## **Exercise 1**\n",
        "\n",
        "Implement the function ```make_gaussian_dataset(n, mu, sigma)``` \u000bthat generates a k-class Gaussian dataset in a d-dimensional space, being\n",
        "\n",
        "- ```n``` a vector of k elements containing each the number of samples for each class;\n",
        "- ```mu``` a matrix with ```shape=(k,d)``` in which each row contains the mean vector $\\mu_k = (\\mu_{k1}, \\ldots, \\mu_{kd}) $ for each class;\n",
        "- ```sigma``` a matrix with ```shape=(k,d)``` in which each row contains the standard deviation $\\sigma_k = (\\sigma_{k1}, \\ldots, \\sigma_{kd})$ (for each dimension) for each class.\n",
        "\n",
        "In practice, samples for class $k$ will be sampled from:\n",
        "$x_k \\sim \\mathcal N(\\mu_k, \\Sigma_k)$, where $\\Sigma_k$ is a diagonal covariance matrix:\n",
        "\n",
        "$\\Sigma_k = \\begin{bmatrix} \n",
        "\\sigma^2_{k1} & 0 & \\ldots & 0 \\\\\n",
        "0 & \\sigma^2_{k2} & \\ldots & 0 \\\\\n",
        "0 & 0 & \\ldots & 0 \\\\\n",
        "0 & 0 & \\ldots & \\sigma^2_{kd} \n",
        "\\end{bmatrix}$ .\n",
        "\n",
        "The function returns the corresponding feature matrix ```x``` and labels ```y```.\n",
        "\n",
        "**Hints:**\n",
        "- Use ```np.random.randn(...)``` to generate random numbers from a standard Gaussian distribution, with zero mean and unit variance, and then transform them to have a different mean and variance (repeat once per class). \n",
        "- Recall that, if $z \\sim \\mathcal N(0,1)$, then $x = \\sigma z + \\mu \\sim \\mathcal N(\\mu, \\sigma^2)$. Please delve deeper into transformations of (Gaussian) random variables if you are not familiar with this notation.\n",
        "- Use ```np.ones(...)``` and/or ```np.zeros(...)``` for class labels.\n"
      ]
    },
    {
      "cell_type": "code",
      "metadata": {
        "id": "7DotGuiG4suM",
        "colab_type": "code",
        "colab": {
          "base_uri": "https://localhost:8080/",
          "height": 137
        },
        "outputId": "b5c310a6-8ae2-454e-e408-457e63e80464"
      },
      "source": [
        "import numpy as np\n",
        "\n",
        "\n",
        "def make_gaussian_datasets(n, mu, sigma):\n",
        "    '''Generating a d-dimensional Gaussian dataset with k classes.'''\n",
        "    n = np.array(n)  # cast to ndarray\n",
        "    mu = np.array(mu)\n",
        "    sigma = np.array(sigma)\n",
        "\n",
        "    n_classes = mu.shape[0]  # n.size or n.shape[0]\n",
        "    n_features = mu.shape[1]\n",
        "    n_samples = np.sum(n)\n",
        "\n",
        "    X = np.zeros(shape=(n_samples, n_features)) \n",
        "    Y = np.zeros(shape=(n_samples,))\n",
        "\n",
        "    start_idx = 0\n",
        "    for k in range(n_classes):  # loop over classes\n",
        "        z = np.random.randn(n[k], n_features)  # sampling from N(0,1)\n",
        "        xk =  z*sigma[k, :] + mu[k, :]  # transform z to sample from N(mu,sigma)\n",
        "        yk = k * np.ones(shape=(n[k],))  # generate nk labels equal to k\n",
        "        X[start_idx:start_idx+n[k], :] = xk\n",
        "        Y[start_idx:start_idx+n[k]] = yk\n",
        "        start_idx += n[k]\n",
        "    return X, Y\n",
        "\n",
        "n = [100, 100, 100]  # number of points in each class\n",
        "mu = [ [-5, -5], [+5, +5], [+5, -5] ]\n",
        "sigma = [[2, 2], [2, 2], [2, 2]]\n",
        "\n",
        "X, Y = make_gaussian_datasets(n, mu, sigma)\n",
        "\n",
        "# print(X)\n",
        "# print(Y)\n",
        "\n",
        "# re-estimate mean and standard deviation from the generated data\n",
        "for k in range(np.unique(Y).size):\n",
        "    print('mean of class ' + str(k) +': ', X[Y==k,:].mean(axis=0))\n",
        "    print('std of class ' + str(k) +': ', X[Y==k,:].std(axis=0))"
      ],
      "execution_count": 41,
      "outputs": [
        {
          "output_type": "stream",
          "text": [
            "mean of class 0:  [-5.05723134 -5.09345846]\n",
            "std of class 0:  [1.99525248 1.8662563 ]\n",
            "mean of class 1:  [4.6036122  4.80754332]\n",
            "std of class 1:  [2.03680282 1.92056642]\n",
            "mean of class 2:  [ 4.92792534 -4.99502161]\n",
            "std of class 2:  [2.14201503 1.87239491]\n"
          ],
          "name": "stdout"
        }
      ]
    },
    {
      "cell_type": "markdown",
      "metadata": {
        "id": "JVKkpHTqF-d_",
        "colab_type": "text"
      },
      "source": [
        "## **Exercise 2**\n",
        "\n",
        "Implement the function ```plot_dataset(X,Y)``` to scatter the data generated in the previous exercise on a bi-dimensional feature space."
      ]
    },
    {
      "cell_type": "code",
      "metadata": {
        "id": "8TydNQQIF9w_",
        "colab_type": "code",
        "colab": {
          "base_uri": "https://localhost:8080/",
          "height": 315
        },
        "outputId": "5f9b3d9b-ce34-42a4-e2f8-acf465056272"
      },
      "source": [
        "import matplotlib.pyplot as plt\n",
        "\n",
        "\n",
        "def plot_dataset(X,Y):\n",
        "    colors = ['r', 'b', 'k', 'g', 'c', 'm', 'y']\n",
        "    n_classes = np.unique(Y).size\n",
        "\n",
        "    for k in range(n_classes):\n",
        "        xk = X[Y==k, :] \n",
        "        plt.scatter(xk[:, 0], xk[:, 1], c=colors[k], label='class ' + str(k))\n",
        "\n",
        "    plt.axis('equal')\n",
        "    plt.legend()\n",
        "    plt.xlabel('x0')\n",
        "    plt.ylabel('x1')\n",
        "    plt.title('Gaussian data')\n",
        "    plt.show()\n",
        "\n",
        "\n",
        "n = [100, 100, 100]  # number of points in each class\n",
        "mu = [ [-5, -5], [+5, +5], [+5, -5] ]\n",
        "sigma = [[1, 3], [1, 1], [1, 1]]\n",
        "X, Y = make_gaussian_datasets(n, mu, sigma)\n",
        "plot_dataset(X,Y)"
      ],
      "execution_count": 42,
      "outputs": [
        {
          "output_type": "display_data",
          "data": {
            "image/png": "[encoded data removed]",
            "text/plain": [
              "<Figure size 432x288 with 1 Axes>"
            ]
          },
          "metadata": {
            "tags": []
          }
        }
      ]
    }
  ]
}